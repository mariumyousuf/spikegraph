{
 "cells": [
  {
   "cell_type": "code",
   "execution_count": 1,
   "id": "9a58ae72",
   "metadata": {
    "scrolled": true
   },
   "outputs": [
    {
     "name": "stderr",
     "output_type": "stream",
     "text": [
      "No GPU automatically detected. Setting SETTINGS.GPU to 0, and SETTINGS.NJOBS to cpu_count.\n"
     ]
    }
   ],
   "source": [
    "import networkx as nx\n",
    "import numpy as np\n",
    "import matplotlib.pyplot as plt\n",
    "from scipy.stats import chisquare\n",
    "from scipy import stats\n",
    "from scipy.fftpack import fft, ifft\n",
    "import bisect \n",
    "from scipy import signal\n",
    "import pandas as pd\n",
    "import seaborn as sns\n",
    "from cdt.metrics import SHD\n",
    "from cdt.metrics import precision_recall\n",
    "import time\n",
    "import random\n",
    "import heapq\n",
    "import lingam\n",
    "import warnings\n",
    "\n",
    "from spikegraph import *\n",
    "from helpers import *\n",
    "\n",
    "warnings.filterwarnings(\"ignore\")"
   ]
  },
  {
   "cell_type": "code",
   "execution_count": 2,
   "id": "6fd6bd7f",
   "metadata": {},
   "outputs": [],
   "source": [
    "fn1='data/groundtruth/toyexample5nodegt_notDAG.txt'\n",
    "gt = getGroundTruth(fn1)"
   ]
  },
  {
   "cell_type": "code",
   "execution_count": 3,
   "id": "ee1b7c94",
   "metadata": {},
   "outputs": [
    {
     "data": {
      "text/plain": [
       "<matplotlib.image.AxesImage at 0x7fe272ac0550>"
      ]
     },
     "execution_count": 3,
     "metadata": {},
     "output_type": "execute_result"
    },
    {
     "data": {
      "image/png": "[encoded data removed]",
      "text/plain": [
       "<Figure size 640x480 with 1 Axes>"
      ]
     },
     "metadata": {},
     "output_type": "display_data"
    }
   ],
   "source": [
    "plt.imshow(gt)"
   ]
  },
  {
   "cell_type": "code",
   "execution_count": 4,
   "id": "9219d7d5",
   "metadata": {},
   "outputs": [
    {
     "name": "stdout",
     "output_type": "stream",
     "text": [
      "K, T: (961, 41)\n",
      "Unique elements and their counts:\n",
      "Element: 0, Count: 30269\n",
      "Element: 24, Count: 337\n",
      "Element: 1, Count: 1538\n",
      "Element: 2, Count: 1828\n",
      "Element: 17, Count: 709\n",
      "Element: 12, Count: 351\n",
      "Element: 16, Count: 1548\n",
      "Element: 3, Count: 596\n",
      "Element: 8, Count: 816\n",
      "Element: 4, Count: 697\n",
      "Element: 19, Count: 82\n",
      "Element: 18, Count: 425\n",
      "Element: 26, Count: 82\n",
      "Element: 20, Count: 41\n",
      "Element: 11, Count: 41\n",
      "Element: 5, Count: 41\n",
      "Counter({0: 30269, 2: 1828, 16: 1548, 1: 1538, 8: 816, 17: 709, 4: 697, 3: 596, 18: 425, 12: 351, 24: 337, 19: 82, 26: 82, 20: 41, 11: 41, 5: 41})\n",
      "[tab] 0000  tot=17.3190  var=0.0001  nll=3.4638\n",
      "[tab] 0050  tot=2.6076  var=0.0460  nll=0.5123\n",
      "[tab] 0100  tot=2.6329  var=0.0676  nll=0.5131\n",
      "[tab] 0150  tot=2.9522  var=0.0570  nll=0.5790\n",
      "[tab] 0200  tot=2.8534  var=0.0463  nll=0.5614\n",
      "[tab] 0250  tot=2.5078  var=0.0715  nll=0.4873\n",
      "[tab] 0300  tot=2.2411  var=0.0366  nll=0.4409\n",
      "[tab] 0350  tot=3.0610  var=0.0571  nll=0.6008\n",
      "[tab] 0400  tot=3.0779  var=0.0529  nll=0.6050\n",
      "[tab] 0450  tot=2.5504  var=0.0410  nll=0.5019\n",
      "[tab] 0499  tot=2.6452  var=0.0271  nll=0.5236\n"
     ]
    },
    {
     "data": {
      "text/plain": [
       "<matplotlib.colorbar.Colorbar at 0x7fe274593910>"
      ]
     },
     "execution_count": 4,
     "metadata": {},
     "output_type": "execute_result"
    },
    {
     "data": {
      "image/png": "[encoded data removed]",
      "text/plain": [
       "<Figure size 640x480 with 2 Axes>"
      ]
     },
     "metadata": {},
     "output_type": "display_data"
    }
   ],
   "source": [
    "fn2 = f'data/spiketrainsfromNEURON/toyexampleNotDAG5nodesamples/rasterplot-5node_0.txt'\n",
    "\n",
    "duration = 5000\n",
    "N = 5\n",
    "h = 5\n",
    "T = 40\n",
    "states_np, idx = enumerate_states(N)\n",
    "\n",
    "numSpikes, spikeTimes = getSpikesInfo(fn2)\n",
    "data = getBinarizedSpikeMatrix(spikeTimes, 5, N, h) # for 5 seconds\n",
    "\n",
    "paths = prepare_paths_from_spikes(data, T)\n",
    "\n",
    "K, T = np.shape(paths)\n",
    "print(f\"K, T: {K, T}\")\n",
    "print(count_unique_elements(paths))\n",
    "\n",
    "@dataclass\n",
    "class CFG:\n",
    "    N: int = N\n",
    "    T: int = T\n",
    "    K: int = K\n",
    "    seed: int = 123\n",
    "    lr_tab: float = 1e-1\n",
    "    iters_tab: int = 500\n",
    "    lr_nn: float = 3e-4\n",
    "    iters_nn: int = 1500\n",
    "    hidden: int = 64\n",
    "    batch_m: int = 256\n",
    "    nll_coeff: float = 5.0\n",
    "    device: str = \"cuda\" if torch.cuda.is_available() else \"cpu\"\n",
    "\n",
    "cfg = CFG(N=N, T=T-1, K=K)\n",
    "device = torch.device(cfg.device)\n",
    "paths_t = torch.tensor(paths, device=device)\n",
    "\n",
    "# Train transition matrix\n",
    "P_tab, loss_tab_tot, loss_tab_var, loss_tab_nll = train_tabular(cfg, states_np, paths_t, device)\n",
    "Δ_tab = influence(P_tab, states_np); Adj_tab = adjacency(Δ_tab)\n",
    "plt.imshow(Δ_tab)\n",
    "plt.colorbar()"
   ]
  },
  {
   "cell_type": "code",
   "execution_count": null,
   "id": "76b69bdf",
   "metadata": {},
   "outputs": [],
   "source": []
  }
 ],
 "metadata": {
  "kernelspec": {
   "display_name": "Python 3 (ipykernel)",
   "language": "python",
   "name": "python3"
  },
  "language_info": {
   "codemirror_mode": {
    "name": "ipython",
    "version": 3
   },
   "file_extension": ".py",
   "mimetype": "text/x-python",
   "name": "python",
   "nbconvert_exporter": "python",
   "pygments_lexer": "ipython3",
   "version": "3.8.5"
  }
 },
 "nbformat": 4,
 "nbformat_minor": 5
}
