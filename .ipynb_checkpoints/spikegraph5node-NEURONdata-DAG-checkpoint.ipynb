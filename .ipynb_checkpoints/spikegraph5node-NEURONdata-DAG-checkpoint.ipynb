{
 "cells": [
  {
   "cell_type": "code",
   "execution_count": 1,
   "id": "9a58ae72",
   "metadata": {
    "scrolled": true
   },
   "outputs": [
    {
     "name": "stderr",
     "output_type": "stream",
     "text": [
      "No GPU automatically detected. Setting SETTINGS.GPU to 0, and SETTINGS.NJOBS to cpu_count.\n"
     ]
    }
   ],
   "source": [
    "import networkx as nx\n",
    "import numpy as np\n",
    "import matplotlib.pyplot as plt\n",
    "from scipy.stats import chisquare\n",
    "from scipy import stats\n",
    "from scipy.fftpack import fft, ifft\n",
    "import bisect \n",
    "from scipy import signal\n",
    "import pandas as pd\n",
    "import seaborn as sns\n",
    "from cdt.metrics import SHD\n",
    "from cdt.metrics import precision_recall\n",
    "import time\n",
    "import random\n",
    "import heapq\n",
    "import lingam\n",
    "import warnings\n",
    "\n",
    "from spikegraph import *\n",
    "from helpers import *\n",
    "\n",
    "warnings.filterwarnings(\"ignore\")"
   ]
  },
  {
   "cell_type": "code",
   "execution_count": 2,
   "id": "ae232ab3",
   "metadata": {},
   "outputs": [],
   "source": [
    "fn1='data/groundtruth/toyexample5nodegt.txt'\n",
    "gt = getGroundTruth(fn1)"
   ]
  },
  {
   "cell_type": "code",
   "execution_count": 3,
   "id": "7c5887ac",
   "metadata": {},
   "outputs": [
    {
     "data": {
      "text/plain": [
       "<matplotlib.image.AxesImage at 0x7fa39cfbc670>"
      ]
     },
     "execution_count": 3,
     "metadata": {},
     "output_type": "execute_result"
    },
    {
     "data": {
      "image/png": "[encoded data removed]",
      "text/plain": [
       "<Figure size 640x480 with 1 Axes>"
      ]
     },
     "metadata": {},
     "output_type": "display_data"
    }
   ],
   "source": [
    "plt.imshow(gt)"
   ]
  },
  {
   "cell_type": "code",
   "execution_count": 4,
   "id": "9219d7d5",
   "metadata": {},
   "outputs": [
    {
     "name": "stdout",
     "output_type": "stream",
     "text": [
      "K, T: (814, 21)\n",
      "Unique elements and their counts:\n",
      "Element: 0, Count: 14121\n",
      "Element: 16, Count: 860\n",
      "Element: 8, Count: 285\n",
      "Element: 2, Count: 315\n",
      "Element: 18, Count: 193\n",
      "Element: 4, Count: 252\n",
      "Element: 25, Count: 42\n",
      "Element: 24, Count: 315\n",
      "Element: 12, Count: 147\n",
      "Element: 1, Count: 459\n",
      "Element: 9, Count: 21\n",
      "Element: 14, Count: 21\n",
      "Element: 17, Count: 21\n",
      "Element: 10, Count: 21\n",
      "Element: 30, Count: 21\n",
      "Counter({0: 14121, 16: 860, 1: 459, 2: 315, 24: 315, 8: 285, 4: 252, 18: 193, 12: 147, 25: 42, 9: 21, 14: 21, 17: 21, 10: 21, 30: 21})\n",
      "[tab] 0000  tot=3.4636  var=0.0003  nll=3.4633\n",
      "[tab] 0050  tot=0.6440  var=0.0244  nll=0.6195\n",
      "[tab] 0100  tot=0.6477  var=0.0097  nll=0.6380\n",
      "[tab] 0150  tot=0.6473  var=0.0032  nll=0.6441\n",
      "[tab] 0200  tot=0.8308  var=0.0096  nll=0.8212\n",
      "[tab] 0250  tot=0.6127  var=0.0038  nll=0.6089\n",
      "[tab] 0300  tot=0.6441  var=0.0110  nll=0.6330\n",
      "[tab] 0350  tot=0.7945  var=0.0144  nll=0.7801\n",
      "[tab] 0400  tot=0.6453  var=0.0030  nll=0.6423\n",
      "[tab] 0450  tot=0.7620  var=0.0241  nll=0.7379\n",
      "[tab] 0499  tot=0.5902  var=0.0138  nll=0.5764\n"
     ]
    },
    {
     "data": {
      "text/plain": [
       "<matplotlib.colorbar.Colorbar at 0x7fa39e53f2e0>"
      ]
     },
     "execution_count": 4,
     "metadata": {},
     "output_type": "execute_result"
    },
    {
     "data": {
      "image/png": "[encoded data removed]",
      "text/plain": [
       "<Figure size 640x480 with 2 Axes>"
      ]
     },
     "metadata": {},
     "output_type": "display_data"
    }
   ],
   "source": [
    "fn2 = 'data/spiketrainsfromNEURON/toyexample5nodesamples/rasterplot-5node_30.txt'\n",
    "\n",
    "duration = 5000\n",
    "N = 5\n",
    "h = 6\n",
    "T = 20\n",
    "states_np, idx = enumerate_states(N)\n",
    "\n",
    "numSpikes, spikeTimes = getSpikesInfo(fn2)\n",
    "data = getBinarizedSpikeMatrix(spikeTimes, 5, N, h)\n",
    "paths = prepare_paths_from_spikes(data, T)\n",
    "\n",
    "K, T = np.shape(paths)\n",
    "print(f\"K, T: {K, T}\")\n",
    "print(count_unique_elements(paths))\n",
    "\n",
    "@dataclass\n",
    "class CFG:\n",
    "    N: int = N\n",
    "    T: int = T\n",
    "    K: int = K\n",
    "    seed: int = 123\n",
    "    lr_tab: float = 1e-1\n",
    "    iters_tab: int = 500\n",
    "    lr_nn: float = 3e-4\n",
    "    iters_nn: int = 1500\n",
    "    hidden: int = 64\n",
    "    batch_m: int = 256\n",
    "    nll_coeff: float = 1.0\n",
    "    device: str = \"cuda\" if torch.cuda.is_available() else \"cpu\"\n",
    "\n",
    "cfg = CFG(N=N, T=T-1, K=K)\n",
    "device = torch.device(cfg.device)\n",
    "paths_t = torch.tensor(paths, device=device)\n",
    "\n",
    "# Train transition matrix\n",
    "P_tab, loss_tab_tot, loss_tab_var, loss_tab_nll = train_tabular(cfg, states_np, paths_t, device)\n",
    "\n",
    "Δ_tab = influence(P_tab, states_np); Adj_tab = adjacency(Δ_tab)\n",
    "\n",
    "plt.imshow(Δ_tab)\n",
    "plt.colorbar()"
   ]
  },
  {
   "cell_type": "code",
   "execution_count": 5,
   "id": "f9b409ae",
   "metadata": {},
   "outputs": [
    {
     "data": {
      "text/plain": [
       "array([[0.05399932, 0.04696055, 0.02918991, 0.03663746, 0.03664635],\n",
       "       [0.12680077, 0.06473293, 0.00150637, 0.00153101, 0.00144161],\n",
       "       [0.49846225, 0.00179832, 0.00180338, 0.00179373, 0.00178398],\n",
       "       [0.05903389, 0.04330109, 0.03870949, 0.03948731, 0.06650004],\n",
       "       [0.61876301, 0.99739038, 0.00203387, 0.00197268, 0.20865908],\n",
       "       [0.0576173 , 0.04258468, 0.03842498, 0.03939694, 0.06478194],\n",
       "       [0.05839911, 0.04302333, 0.0387215 , 0.03922822, 0.06534565],\n",
       "       [0.05786642, 0.04264168, 0.03869839, 0.03934304, 0.06346876],\n",
       "       [0.81457543, 0.0324322 , 0.03244428, 0.00134471, 0.00134802],\n",
       "       [0.99335733, 0.0030889 , 0.00301301, 0.00300066, 0.00305007],\n",
       "       [0.99468667, 0.00211591, 0.00219579, 0.00216864, 0.00209209],\n",
       "       [0.05776048, 0.0428903 , 0.03900027, 0.03970645, 0.0630088 ],\n",
       "       [0.74177923, 0.00260426, 0.00263392, 0.1555204 , 0.11984405],\n",
       "       [0.05722328, 0.04219888, 0.03816745, 0.0390314 , 0.06467647],\n",
       "       [0.99394556, 0.00298429, 0.00290543, 0.00300528, 0.0029578 ],\n",
       "       [0.05804332, 0.04286909, 0.03858621, 0.03932027, 0.06444414],\n",
       "       [0.04767742, 0.05984964, 0.00189922, 0.0575896 , 0.03055992],\n",
       "       [0.00492932, 0.005012  , 0.00475075, 0.00486606, 0.00511055],\n",
       "       [0.00136085, 0.00136087, 0.00136899, 0.0013464 , 0.00134396],\n",
       "       [0.05836225, 0.04293012, 0.0385792 , 0.03917565, 0.06661224],\n",
       "       [0.05736293, 0.0425866 , 0.03819586, 0.03906614, 0.06584082],\n",
       "       [0.05733725, 0.04265666, 0.03857133, 0.03905983, 0.06347559],\n",
       "       [0.05811661, 0.04272174, 0.03847769, 0.03914103, 0.06457316],\n",
       "       [0.05798175, 0.04279773, 0.03854487, 0.03926792, 0.06461768],\n",
       "       [0.05516578, 0.00185781, 0.08316704, 0.05516765, 0.00185968],\n",
       "       [0.00259211, 0.00252914, 0.00263854, 0.00259364, 0.0024913 ],\n",
       "       [0.05819467, 0.04253495, 0.03847118, 0.03921452, 0.06645599],\n",
       "       [0.05833416, 0.04308118, 0.03894498, 0.03964688, 0.0640526 ],\n",
       "       [0.05828366, 0.0430055 , 0.03881615, 0.0395423 , 0.06504871],\n",
       "       [0.05855366, 0.04299679, 0.03845525, 0.03931756, 0.06663748],\n",
       "       [0.99065034, 0.00577361, 0.0059401 , 0.00574218, 0.00577919],\n",
       "       [0.05964156, 0.04358651, 0.03916449, 0.03984574, 0.06715592]])"
      ]
     },
     "execution_count": 5,
     "metadata": {},
     "output_type": "execute_result"
    }
   ],
   "source": [
    "P_tab @ (states_np==1).astype(float)"
   ]
  },
  {
   "cell_type": "code",
   "execution_count": 6,
   "id": "6957382d",
   "metadata": {},
   "outputs": [
    {
     "data": {
      "text/plain": [
       "array([[0, 0, 0, 0, 0],\n",
       "       [0, 0, 0, 0, 1],\n",
       "       [0, 0, 0, 1, 0],\n",
       "       [0, 0, 0, 1, 1],\n",
       "       [0, 0, 1, 0, 0],\n",
       "       [0, 0, 1, 0, 1],\n",
       "       [0, 0, 1, 1, 0],\n",
       "       [0, 0, 1, 1, 1],\n",
       "       [0, 1, 0, 0, 0],\n",
       "       [0, 1, 0, 0, 1],\n",
       "       [0, 1, 0, 1, 0],\n",
       "       [0, 1, 0, 1, 1],\n",
       "       [0, 1, 1, 0, 0],\n",
       "       [0, 1, 1, 0, 1],\n",
       "       [0, 1, 1, 1, 0],\n",
       "       [0, 1, 1, 1, 1],\n",
       "       [1, 0, 0, 0, 0],\n",
       "       [1, 0, 0, 0, 1],\n",
       "       [1, 0, 0, 1, 0],\n",
       "       [1, 0, 0, 1, 1],\n",
       "       [1, 0, 1, 0, 0],\n",
       "       [1, 0, 1, 0, 1],\n",
       "       [1, 0, 1, 1, 0],\n",
       "       [1, 0, 1, 1, 1],\n",
       "       [1, 1, 0, 0, 0],\n",
       "       [1, 1, 0, 0, 1],\n",
       "       [1, 1, 0, 1, 0],\n",
       "       [1, 1, 0, 1, 1],\n",
       "       [1, 1, 1, 0, 0],\n",
       "       [1, 1, 1, 0, 1],\n",
       "       [1, 1, 1, 1, 0],\n",
       "       [1, 1, 1, 1, 1]], dtype=int8)"
      ]
     },
     "execution_count": 6,
     "metadata": {},
     "output_type": "execute_result"
    }
   ],
   "source": [
    "states_np"
   ]
  },
  {
   "cell_type": "code",
   "execution_count": 7,
   "id": "76b69bdf",
   "metadata": {},
   "outputs": [
    {
     "data": {
      "text/plain": [
       "{(0, 0, 0, 0, 0): 0,\n",
       " (0, 0, 0, 0, 1): 1,\n",
       " (0, 0, 0, 1, 0): 2,\n",
       " (0, 0, 0, 1, 1): 3,\n",
       " (0, 0, 1, 0, 0): 4,\n",
       " (0, 0, 1, 0, 1): 5,\n",
       " (0, 0, 1, 1, 0): 6,\n",
       " (0, 0, 1, 1, 1): 7,\n",
       " (0, 1, 0, 0, 0): 8,\n",
       " (0, 1, 0, 0, 1): 9,\n",
       " (0, 1, 0, 1, 0): 10,\n",
       " (0, 1, 0, 1, 1): 11,\n",
       " (0, 1, 1, 0, 0): 12,\n",
       " (0, 1, 1, 0, 1): 13,\n",
       " (0, 1, 1, 1, 0): 14,\n",
       " (0, 1, 1, 1, 1): 15,\n",
       " (1, 0, 0, 0, 0): 16,\n",
       " (1, 0, 0, 0, 1): 17,\n",
       " (1, 0, 0, 1, 0): 18,\n",
       " (1, 0, 0, 1, 1): 19,\n",
       " (1, 0, 1, 0, 0): 20,\n",
       " (1, 0, 1, 0, 1): 21,\n",
       " (1, 0, 1, 1, 0): 22,\n",
       " (1, 0, 1, 1, 1): 23,\n",
       " (1, 1, 0, 0, 0): 24,\n",
       " (1, 1, 0, 0, 1): 25,\n",
       " (1, 1, 0, 1, 0): 26,\n",
       " (1, 1, 0, 1, 1): 27,\n",
       " (1, 1, 1, 0, 0): 28,\n",
       " (1, 1, 1, 0, 1): 29,\n",
       " (1, 1, 1, 1, 0): 30,\n",
       " (1, 1, 1, 1, 1): 31}"
      ]
     },
     "execution_count": 7,
     "metadata": {},
     "output_type": "execute_result"
    }
   ],
   "source": [
    "idx"
   ]
  },
  {
   "cell_type": "code",
   "execution_count": null,
   "id": "4fc8136f",
   "metadata": {},
   "outputs": [],
   "source": []
  }
 ],
 "metadata": {
  "kernelspec": {
   "display_name": "Python 3 (ipykernel)",
   "language": "python",
   "name": "python3"
  },
  "language_info": {
   "codemirror_mode": {
    "name": "ipython",
    "version": 3
   },
   "file_extension": ".py",
   "mimetype": "text/x-python",
   "name": "python",
   "nbconvert_exporter": "python",
   "pygments_lexer": "ipython3",
   "version": "3.8.5"
  }
 },
 "nbformat": 4,
 "nbformat_minor": 5
}
